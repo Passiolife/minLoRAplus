{
 "cells": [
  {
   "cell_type": "code",
   "execution_count": null,
   "metadata": {
    "collapsed": true
   },
   "outputs": [],
   "source": [
    "import timm\n",
    "import minloraplus\n",
    "from minloraplus.training.cv import CNNClassifier\n",
    "import pytorch_lightning as pl\n",
    "import torchvision\n",
    "import torch\n",
    "import os"
   ]
  },
  {
   "cell_type": "code",
   "execution_count": null,
   "outputs": [],
   "source": [
    "from torchvision import datasets"
   ],
   "metadata": {
    "collapsed": false
   }
  },
  {
   "cell_type": "code",
   "execution_count": null,
   "outputs": [],
   "source": [
    "IMG_SIZE=64"
   ],
   "metadata": {
    "collapsed": false
   }
  },
  {
   "cell_type": "code",
   "execution_count": null,
   "outputs": [],
   "source": [
    "train_trans = torchvision.transforms.Compose([      torchvision.transforms.Resize((IMG_SIZE, IMG_SIZE)),\n",
    "                                                    torchvision.transforms.RandAugment(2, 5),\n",
    "                                                    torchvision.transforms.ToTensor()]\n",
    "    )\n",
    "\n",
    "test_transforms = torchvision.transforms.Compose(\n",
    "        [torchvision.transforms.Resize((IMG_SIZE, IMG_SIZE)), torchvision.transforms.ToTensor()]\n",
    "    )"
   ],
   "metadata": {
    "collapsed": false
   }
  },
  {
   "cell_type": "code",
   "execution_count": null,
   "outputs": [],
   "source": [
    "#TRAIN AND TEST ARE REVERSED IN THIS TORCHVISION DATASET\n",
    "flowers_train = datasets.Flowers102(\"./\", split=\"test\", download=True, transform=train_trans)\n",
    "flowers_test = datasets.Flowers102(\"./\", split=\"train\", download=True, transform=test_transforms)"
   ],
   "metadata": {
    "collapsed": false
   }
  },
  {
   "cell_type": "code",
   "execution_count": null,
   "outputs": [],
   "source": [
    "train_dl = torch.utils.data.DataLoader(flowers_train,\n",
    "                                       batch_size=32,\n",
    "                                       shuffle=True, num_workers=os.cpu_count()//2)\n",
    "\n",
    "test_dl = torch.utils.data.DataLoader(flowers_test,\n",
    "                                      batch_size=32, num_workers=os.cpu_count()//2)"
   ],
   "metadata": {
    "collapsed": false
   }
  },
  {
   "cell_type": "code",
   "execution_count": null,
   "outputs": [],
   "source": [
    "classifier = CNNClassifier(102, img_size=IMG_SIZE)"
   ],
   "metadata": {
    "collapsed": false
   }
  },
  {
   "cell_type": "code",
   "execution_count": null,
   "outputs": [],
   "source": [
    "minloraplus.print_trainable_parameters(classifier.model)"
   ],
   "metadata": {
    "collapsed": false
   }
  },
  {
   "cell_type": "code",
   "execution_count": null,
   "outputs": [],
   "source": [
    "trainer = pl.Trainer(\n",
    "        accelerator=\"cpu\",\n",
    "        max_epochs=10\n",
    "    )"
   ],
   "metadata": {
    "collapsed": false
   }
  },
  {
   "cell_type": "code",
   "execution_count": null,
   "outputs": [],
   "source": [
    "trainer.fit(classifier, train_dataloaders=train_dl, val_dataloaders=test_dl)"
   ],
   "metadata": {
    "collapsed": false
   }
  }
 ],
 "metadata": {
  "kernelspec": {
   "name": "pytorch",
   "language": "python",
   "display_name": "pytorch"
  },
  "language_info": {
   "codemirror_mode": {
    "name": "ipython",
    "version": 2
   },
   "file_extension": ".py",
   "mimetype": "text/x-python",
   "name": "python",
   "nbconvert_exporter": "python",
   "pygments_lexer": "ipython2",
   "version": "2.7.6"
  }
 },
 "nbformat": 4,
 "nbformat_minor": 0
}

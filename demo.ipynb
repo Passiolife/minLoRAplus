{
 "cells": [
  {
   "cell_type": "code",
   "execution_count": 1,
   "id": "8209bea0",
   "metadata": {
    "lines_to_next_cell": 2,
    "ExecuteTime": {
     "end_time": "2023-06-22T10:07:07.798306Z",
     "start_time": "2023-06-22T10:07:07.267134Z"
    }
   },
   "outputs": [],
   "source": [
    "import torch\n",
    "from minloraplus import add_lora, apply_to_lora, disable_lora, enable_lora, get_lora_params, merge_lora, name_is_lora, remove_lora, load_multiple_lora, select_lora, get_lora_state_dict\n",
    "_ = torch.set_grad_enabled(False)"
   ]
  },
  {
   "cell_type": "code",
   "execution_count": 2,
   "id": "492093a9",
   "metadata": {
    "lines_to_next_cell": 0,
    "ExecuteTime": {
     "end_time": "2023-06-22T10:07:10.115443Z",
     "start_time": "2023-06-22T10:07:10.107398Z"
    }
   },
   "outputs": [
    {
     "name": "stdout",
     "output_type": "stream",
     "text": [
      "tensor([[-0.3038,  0.0235,  0.1765]])\n"
     ]
    }
   ],
   "source": [
    "# a simple model\n",
    "model = torch.nn.Sequential(\n",
    "    torch.nn.Linear(in_features=5, out_features=7),\n",
    "    torch.nn.Linear(in_features=7, out_features=3),\n",
    ")\n",
    "\n",
    "x = torch.randn(1, 5)\n",
    "y = model(x)\n",
    "print(y)\n",
    "Y0 = y"
   ]
  },
  {
   "cell_type": "code",
   "execution_count": 3,
   "id": "98584a8c",
   "metadata": {
    "lines_to_next_cell": 0,
    "ExecuteTime": {
     "end_time": "2023-06-22T10:07:10.664498Z",
     "start_time": "2023-06-22T10:07:10.660552Z"
    }
   },
   "outputs": [],
   "source": [
    "# add lora to the model\n",
    "# becase B is initialized to 0, the output is the same as before\n",
    "add_lora(model)\n",
    "y = model(x)\n",
    "assert torch.allclose(y, Y0)"
   ]
  },
  {
   "cell_type": "code",
   "execution_count": 4,
   "id": "c0251891",
   "metadata": {
    "lines_to_next_cell": 0,
    "ExecuteTime": {
     "end_time": "2023-06-22T10:07:11.410151Z",
     "start_time": "2023-06-22T10:07:11.405875Z"
    }
   },
   "outputs": [
    {
     "name": "stdout",
     "output_type": "stream",
     "text": [
      "tensor([[-0.0954,  0.0298,  0.1755]])\n"
     ]
    }
   ],
   "source": [
    "# to make the output different, we need to initialize B to something non-zero\n",
    "model.apply(apply_to_lora(lambda x: torch.nn.init.ones_(x.lora_B)))\n",
    "y = model(x)\n",
    "print(y)\n",
    "assert not torch.allclose(y, Y0)\n",
    "Y1 = y"
   ]
  },
  {
   "cell_type": "code",
   "execution_count": 5,
   "id": "196087bc",
   "metadata": {
    "lines_to_next_cell": 0,
    "ExecuteTime": {
     "end_time": "2023-06-22T10:07:11.993821Z",
     "start_time": "2023-06-22T10:07:11.989576Z"
    }
   },
   "outputs": [],
   "source": [
    "# now let's try to disable lora, the output is the same as before lora is added\n",
    "disable_lora(model)\n",
    "y = model(x)\n",
    "assert torch.allclose(y, Y0)"
   ]
  },
  {
   "cell_type": "code",
   "execution_count": 6,
   "id": "1e9cba3c",
   "metadata": {
    "lines_to_next_cell": 0,
    "ExecuteTime": {
     "end_time": "2023-06-22T10:07:12.578060Z",
     "start_time": "2023-06-22T10:07:12.573116Z"
    }
   },
   "outputs": [],
   "source": [
    "# enable lora again\n",
    "enable_lora(model)\n",
    "y = model(x)\n",
    "assert torch.allclose(y, Y1)"
   ]
  },
  {
   "cell_type": "code",
   "execution_count": 7,
   "id": "57f19300",
   "metadata": {
    "ExecuteTime": {
     "end_time": "2023-06-22T10:07:13.566251Z",
     "start_time": "2023-06-22T10:07:13.564288Z"
    }
   },
   "outputs": [
    {
     "data": {
      "text/plain": "dict_keys(['0.parametrizations.weight.0.lora_A', '0.parametrizations.weight.0.lora_B', '1.parametrizations.weight.0.lora_A', '1.parametrizations.weight.0.lora_B'])"
     },
     "execution_count": 7,
     "metadata": {},
     "output_type": "execute_result"
    }
   ],
   "source": [
    "# let's save the state dict for later use\n",
    "state_dict_to_save = get_lora_state_dict(model)\n",
    "state_dict_to_save.keys()"
   ]
  },
  {
   "cell_type": "code",
   "execution_count": 8,
   "id": "19a06b21",
   "metadata": {
    "ExecuteTime": {
     "end_time": "2023-06-22T10:07:18.399988Z",
     "start_time": "2023-06-22T10:07:18.392958Z"
    }
   },
   "outputs": [],
   "source": [
    "# you can remove lora from the model\n",
    "remove_lora(model)"
   ]
  },
  {
   "cell_type": "code",
   "execution_count": 9,
   "id": "522e71f1",
   "metadata": {
    "lines_to_next_cell": 0,
    "ExecuteTime": {
     "end_time": "2023-06-22T10:07:18.830808Z",
     "start_time": "2023-06-22T10:07:18.826457Z"
    }
   },
   "outputs": [],
   "source": [
    "# lets try to load the lora back\n",
    "# first we need to add lora to the model\n",
    "add_lora(model)\n",
    "# then we can load the lora parameters\n",
    "# strict=False is needed because we are loading a subset of the parameters\n",
    "_ = model.load_state_dict(state_dict_to_save, strict=False) \n",
    "y = model(x)\n",
    "assert torch.allclose(y, Y1)"
   ]
  },
  {
   "cell_type": "code",
   "execution_count": 10,
   "id": "9f0c8570",
   "metadata": {
    "lines_to_next_cell": 0,
    "ExecuteTime": {
     "end_time": "2023-06-22T10:07:19.531735Z",
     "start_time": "2023-06-22T10:07:19.527996Z"
    }
   },
   "outputs": [],
   "source": [
    "# we can merge it to make it a normal linear layer, so there is no overhead for inference\n",
    "merge_lora(model)\n",
    "y = model(x)\n",
    "assert torch.allclose(y, Y1)"
   ]
  },
  {
   "cell_type": "code",
   "execution_count": 11,
   "id": "ee283143",
   "metadata": {
    "ExecuteTime": {
     "end_time": "2023-06-22T10:07:20.137538Z",
     "start_time": "2023-06-22T10:07:20.131788Z"
    }
   },
   "outputs": [
    {
     "data": {
      "text/plain": "Sequential(\n  (0): Linear(in_features=5, out_features=7, bias=True)\n  (1): Linear(in_features=7, out_features=3, bias=True)\n)"
     },
     "execution_count": 11,
     "metadata": {},
     "output_type": "execute_result"
    }
   ],
   "source": [
    "# model now has no lora parameters\n",
    "model"
   ]
  },
  {
   "attachments": {},
   "cell_type": "markdown",
   "id": "f3c246e1",
   "metadata": {},
   "source": [
    "## Training a model"
   ]
  },
  {
   "cell_type": "code",
   "execution_count": 12,
   "id": "edfaee1e",
   "metadata": {
    "lines_to_next_cell": 0,
    "ExecuteTime": {
     "end_time": "2023-06-22T10:07:23.514079Z",
     "start_time": "2023-06-22T10:07:23.507495Z"
    }
   },
   "outputs": [],
   "source": [
    "model = torch.nn.Linear(in_features=5, out_features=3)\n",
    "# Step 1: Add LoRA to the model\n",
    "add_lora(model)\n",
    "\n",
    "# Step 2: Collect the parameters, pass them to the optimizer\n",
    "\n",
    "parameters = [\n",
    "    {\"params\": list(get_lora_params(model))},\n",
    "]\n",
    "optimizer = torch.optim.AdamW(parameters, lr=1e-3)\n",
    "\n",
    "# Step 3: Train the model\n",
    "# ...\n",
    "# simulate training, update the LoRA parameters\n",
    "model.apply(apply_to_lora(lambda x: torch.nn.init.normal_(x.lora_A)))\n",
    "model.apply(apply_to_lora(lambda x: torch.nn.init.normal_(x.lora_B)))\n",
    "\n",
    "# Step 4: export the LoRA parameters\n",
    "state_dict = model.state_dict()\n",
    "lora_state_dict = {k: v for k, v in state_dict.items() if name_is_lora(k)}"
   ]
  },
  {
   "attachments": {},
   "cell_type": "markdown",
   "id": "539e7d19",
   "metadata": {},
   "source": [
    "## Loading and Inferencing with LoRA"
   ]
  },
  {
   "cell_type": "code",
   "execution_count": 13,
   "id": "1a9836de",
   "metadata": {
    "ExecuteTime": {
     "end_time": "2023-06-22T10:07:26.687281Z",
     "start_time": "2023-06-22T10:07:26.679095Z"
    }
   },
   "outputs": [],
   "source": [
    "# Step 1: Add LoRA to your model\n",
    "add_lora(model)\n",
    "\n",
    "# Step 2: Load the LoRA parameters\n",
    "_ = model.load_state_dict(lora_state_dict, strict=False)\n",
    "\n",
    "# Step 3: Merge the LoRA parameters into the model\n",
    "merge_lora(model)"
   ]
  },
  {
   "attachments": {},
   "cell_type": "markdown",
   "id": "ccba9d68",
   "metadata": {},
   "source": [
    "## Inferencing with multiple LoRA models"
   ]
  },
  {
   "cell_type": "code",
   "execution_count": 14,
   "id": "a0ef4b28",
   "metadata": {
    "ExecuteTime": {
     "end_time": "2023-06-22T10:07:29.182525Z",
     "start_time": "2023-06-22T10:07:29.177892Z"
    }
   },
   "outputs": [],
   "source": [
    "# to avoid re-adding lora to the model when rerun the cell, remove lora first \n",
    "remove_lora(model)\n",
    "# Step 1: Add LoRA to your model\n",
    "add_lora(model)\n",
    "\n",
    "# Step 2: Load the LoRA parameters\n",
    "\n",
    "# fake 3 sets of LoRA parameters\n",
    "lora_state_dict_0 = lora_state_dict\n",
    "lora_state_dict_1 = {k: torch.ones_like(v) for k, v in lora_state_dict.items()}\n",
    "lora_state_dict_2 = {k: torch.zeros_like(v) for k, v in lora_state_dict.items()}\n",
    "lora_state_dicts = [lora_state_dict_0, lora_state_dict_1, lora_state_dict_2]\n",
    "\n",
    "load_multiple_lora(model, lora_state_dicts)\n",
    "\n",
    "# Step 3: Select which LoRA to use at inference time\n",
    "Y0 = select_lora(model, 0)(x)\n",
    "Y1 = select_lora(model, 1)(x)\n",
    "Y2 = select_lora(model, 2)(x)"
   ]
  },
  {
   "cell_type": "code",
   "execution_count": 15,
   "id": "c67602a3",
   "metadata": {
    "ExecuteTime": {
     "end_time": "2023-06-22T10:07:30.257189Z",
     "start_time": "2023-06-22T10:07:30.252565Z"
    }
   },
   "outputs": [
    {
     "data": {
      "text/plain": "(tensor([[ 5.2267,  2.4045, -1.7119]]),\n tensor([[-1.9649, -3.0189, -5.6841]]),\n tensor([[ 2.5305,  1.4764, -1.1887]]))"
     },
     "execution_count": 15,
     "metadata": {},
     "output_type": "execute_result"
    }
   ],
   "source": [
    "Y0, Y1, Y2"
   ]
  },
  {
   "cell_type": "code",
   "execution_count": 16,
   "id": "537c5c6c",
   "metadata": {
    "ExecuteTime": {
     "end_time": "2023-06-22T10:07:30.737886Z",
     "start_time": "2023-06-22T10:07:30.733544Z"
    }
   },
   "outputs": [
    {
     "name": "stdout",
     "output_type": "stream",
     "text": [
      "tensor([[ 5.2267,  2.4045, -1.7119]])\n",
      "tensor([[-1.9649, -3.0189, -5.6841]])\n",
      "tensor([[ 2.5305,  1.4764, -1.1887]])\n"
     ]
    }
   ],
   "source": [
    "remove_lora(model)\n",
    "init_state_dict = model.state_dict()\n",
    "# verify that it's the same as if we load the lora parameters one by one\n",
    "for state_dict in lora_state_dicts:\n",
    "    remove_lora(model)\n",
    "    _ = model.load_state_dict(init_state_dict, strict=False)\n",
    "    add_lora(model)\n",
    "    _ = model.load_state_dict(state_dict, strict=False)\n",
    "    merge_lora(model)\n",
    "    y = model(x)\n",
    "    print(y)"
   ]
  },
  {
   "cell_type": "code",
   "execution_count": null,
   "outputs": [],
   "source": [],
   "metadata": {
    "collapsed": false
   }
  }
 ],
 "metadata": {
  "jupytext": {
   "cell_metadata_filter": "-all",
   "main_language": "python",
   "notebook_metadata_filter": "-all"
  },
  "kernelspec": {
   "display_name": "lora",
   "language": "python",
   "name": "python3"
  },
  "language_info": {
   "codemirror_mode": {
    "name": "ipython",
    "version": 3
   },
   "file_extension": ".py",
   "mimetype": "text/x-python",
   "name": "python",
   "nbconvert_exporter": "python",
   "pygments_lexer": "ipython3",
   "version": "3.9.16"
  },
  "vscode": {
   "interpreter": {
    "hash": "cd38cab5b092fbce1866c43acaed152c77b80a12cd5e2b7fb23112c1a171e061"
   }
  }
 },
 "nbformat": 4,
 "nbformat_minor": 5
}
